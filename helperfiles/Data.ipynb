{
 "cells": [
  {
   "cell_type": "code",
   "execution_count": 1,
   "metadata": {},
   "outputs": [],
   "source": [
    "import pandas as pd"
   ]
  },
  {
   "cell_type": "code",
   "execution_count": 2,
   "metadata": {},
   "outputs": [],
   "source": [
    "df=pd.read_json(r\"structured_data.json\")"
   ]
  },
  {
   "cell_type": "code",
   "execution_count": 9,
   "metadata": {},
   "outputs": [
    {
     "name": "stdout",
     "output_type": "stream",
     "text": [
      "Saved token contract map to token_contract_map.json\n"
     ]
    }
   ],
   "source": [
    "import json\n",
    "token_contract_map = {str(df[\"token\"][i]): df[\"contract_symbol\"][i] for i in df.index}\n",
    "\n",
    "# Save to JSON file\n",
    "json_filename = \"token_contract_map.json\"\n",
    "with open(json_filename, \"w\") as json_file:\n",
    "    json.dump(token_contract_map, json_file, indent=4)\n",
    "print(f\"Saved token contract map to {json_filename}\")"
   ]
  }
 ],
 "metadata": {
  "kernelspec": {
   "display_name": "venv",
   "language": "python",
   "name": "python3"
  },
  "language_info": {
   "codemirror_mode": {
    "name": "ipython",
    "version": 3
   },
   "file_extension": ".py",
   "mimetype": "text/x-python",
   "name": "python",
   "nbconvert_exporter": "python",
   "pygments_lexer": "ipython3",
   "version": "3.12.9"
  }
 },
 "nbformat": 4,
 "nbformat_minor": 2
}
